{
  "cells": [
    {
      "cell_type": "markdown",
      "metadata": {
        "id": "HlVl7kVaASRQ"
      },
      "source": [
        "# Лабораторная работа №2\n",
        "\n",
        "Требования:\n",
        "* Python >= 3.X\n",
        "* NLTK >= 3.2.5\n",
        "\n",
        "Лабораторную работу необходимо выполнять в данном шаблоне. Результат работы выслать письмом на litvinov.vg@ssau.ru. В теме письма указывать ФИО полностью.\n",
        "\n",
        "Необходимо провести исследование различных способов представления документов и их влияние на качество определения тональности.\n",
        "\n",
        "В качестве входных данных к лабораторной работе взят широко известный набор данных IMDB, содержащий 50K обзоров фильмов ([imdb-dataset-of-50k-movie-reviews](https://www.kaggle.com/lakshmi25npathi/imdb-dataset-of-50k-movie-reviews)). Откликами являются значения двух классов positive и negative."
      ]
    },
    {
      "cell_type": "code",
      "source": [
        "import pandas as pd\n",
        "from sklearn.feature_extraction.text import CountVectorizer, TfidfVectorizer\n",
        "from sklearn.model_selection import train_test_split\n",
        "from sklearn.svm import SVC\n",
        "from sklearn.ensemble import RandomForestClassifier\n",
        "from sklearn.model_selection import GridSearchCV\n",
        "from sklearn.metrics import accuracy_score"
      ],
      "metadata": {
        "id": "TvuDyPENydtP"
      },
      "execution_count": 38,
      "outputs": []
    },
    {
      "cell_type": "code",
      "source": [
        "from google.colab import drive\n",
        "drive.mount('/content/drive')"
      ],
      "metadata": {
        "id": "mLB2bZ4uxyyg",
        "colab": {
          "base_uri": "https://localhost:8080/"
        },
        "outputId": "3aca95c7-5fd6-45ee-9d18-ab9d868f2c62"
      },
      "execution_count": 39,
      "outputs": [
        {
          "output_type": "stream",
          "name": "stdout",
          "text": [
            "Drive already mounted at /content/drive; to attempt to forcibly remount, call drive.mount(\"/content/drive\", force_remount=True).\n"
          ]
        }
      ]
    },
    {
      "cell_type": "code",
      "execution_count": 3,
      "metadata": {
        "id": "o1bP440tASRc",
        "colab": {
          "base_uri": "https://localhost:8080/"
        },
        "outputId": "84d95828-ad57-4de3-daf7-685def77656d"
      },
      "outputs": [
        {
          "output_type": "stream",
          "name": "stdout",
          "text": [
            "Archive:  /content/drive/MyDrive/Datasets/IMDB_Dataset_of_50K_Movie_Reviews.zip\n",
            "  inflating: data/IMDB Dataset.csv   \n"
          ]
        }
      ],
      "source": [
        "!unzip  /content/drive/MyDrive/Datasets/IMDB_Dataset_of_50K_Movie_Reviews.zip -d data"
      ]
    },
    {
      "cell_type": "code",
      "source": [
        "frame = pd.read_csv('/content/data/IMDB Dataset.csv', encoding = 'utf8')[:1500]\n",
        "frame.head(5)"
      ],
      "metadata": {
        "colab": {
          "base_uri": "https://localhost:8080/",
          "height": 206
        },
        "id": "JuxuN2uVycdq",
        "outputId": "1900b536-7f72-4ffd-eef4-7015c780994f"
      },
      "execution_count": 55,
      "outputs": [
        {
          "output_type": "execute_result",
          "data": {
            "text/html": [
              "\n",
              "  <div id=\"df-d1a50cfb-66f3-4efa-8c35-e74e301ffb91\">\n",
              "    <div class=\"colab-df-container\">\n",
              "      <div>\n",
              "<style scoped>\n",
              "    .dataframe tbody tr th:only-of-type {\n",
              "        vertical-align: middle;\n",
              "    }\n",
              "\n",
              "    .dataframe tbody tr th {\n",
              "        vertical-align: top;\n",
              "    }\n",
              "\n",
              "    .dataframe thead th {\n",
              "        text-align: right;\n",
              "    }\n",
              "</style>\n",
              "<table border=\"1\" class=\"dataframe\">\n",
              "  <thead>\n",
              "    <tr style=\"text-align: right;\">\n",
              "      <th></th>\n",
              "      <th>review</th>\n",
              "      <th>sentiment</th>\n",
              "    </tr>\n",
              "  </thead>\n",
              "  <tbody>\n",
              "    <tr>\n",
              "      <th>0</th>\n",
              "      <td>One of the other reviewers has mentioned that ...</td>\n",
              "      <td>positive</td>\n",
              "    </tr>\n",
              "    <tr>\n",
              "      <th>1</th>\n",
              "      <td>A wonderful little production. &lt;br /&gt;&lt;br /&gt;The...</td>\n",
              "      <td>positive</td>\n",
              "    </tr>\n",
              "    <tr>\n",
              "      <th>2</th>\n",
              "      <td>I thought this was a wonderful way to spend ti...</td>\n",
              "      <td>positive</td>\n",
              "    </tr>\n",
              "    <tr>\n",
              "      <th>3</th>\n",
              "      <td>Basically there's a family where a little boy ...</td>\n",
              "      <td>negative</td>\n",
              "    </tr>\n",
              "    <tr>\n",
              "      <th>4</th>\n",
              "      <td>Petter Mattei's \"Love in the Time of Money\" is...</td>\n",
              "      <td>positive</td>\n",
              "    </tr>\n",
              "  </tbody>\n",
              "</table>\n",
              "</div>\n",
              "      <button class=\"colab-df-convert\" onclick=\"convertToInteractive('df-d1a50cfb-66f3-4efa-8c35-e74e301ffb91')\"\n",
              "              title=\"Convert this dataframe to an interactive table.\"\n",
              "              style=\"display:none;\">\n",
              "        \n",
              "  <svg xmlns=\"http://www.w3.org/2000/svg\" height=\"24px\"viewBox=\"0 0 24 24\"\n",
              "       width=\"24px\">\n",
              "    <path d=\"M0 0h24v24H0V0z\" fill=\"none\"/>\n",
              "    <path d=\"M18.56 5.44l.94 2.06.94-2.06 2.06-.94-2.06-.94-.94-2.06-.94 2.06-2.06.94zm-11 1L8.5 8.5l.94-2.06 2.06-.94-2.06-.94L8.5 2.5l-.94 2.06-2.06.94zm10 10l.94 2.06.94-2.06 2.06-.94-2.06-.94-.94-2.06-.94 2.06-2.06.94z\"/><path d=\"M17.41 7.96l-1.37-1.37c-.4-.4-.92-.59-1.43-.59-.52 0-1.04.2-1.43.59L10.3 9.45l-7.72 7.72c-.78.78-.78 2.05 0 2.83L4 21.41c.39.39.9.59 1.41.59.51 0 1.02-.2 1.41-.59l7.78-7.78 2.81-2.81c.8-.78.8-2.07 0-2.86zM5.41 20L4 18.59l7.72-7.72 1.47 1.35L5.41 20z\"/>\n",
              "  </svg>\n",
              "      </button>\n",
              "      \n",
              "  <style>\n",
              "    .colab-df-container {\n",
              "      display:flex;\n",
              "      flex-wrap:wrap;\n",
              "      gap: 12px;\n",
              "    }\n",
              "\n",
              "    .colab-df-convert {\n",
              "      background-color: #E8F0FE;\n",
              "      border: none;\n",
              "      border-radius: 50%;\n",
              "      cursor: pointer;\n",
              "      display: none;\n",
              "      fill: #1967D2;\n",
              "      height: 32px;\n",
              "      padding: 0 0 0 0;\n",
              "      width: 32px;\n",
              "    }\n",
              "\n",
              "    .colab-df-convert:hover {\n",
              "      background-color: #E2EBFA;\n",
              "      box-shadow: 0px 1px 2px rgba(60, 64, 67, 0.3), 0px 1px 3px 1px rgba(60, 64, 67, 0.15);\n",
              "      fill: #174EA6;\n",
              "    }\n",
              "\n",
              "    [theme=dark] .colab-df-convert {\n",
              "      background-color: #3B4455;\n",
              "      fill: #D2E3FC;\n",
              "    }\n",
              "\n",
              "    [theme=dark] .colab-df-convert:hover {\n",
              "      background-color: #434B5C;\n",
              "      box-shadow: 0px 1px 3px 1px rgba(0, 0, 0, 0.15);\n",
              "      filter: drop-shadow(0px 1px 2px rgba(0, 0, 0, 0.3));\n",
              "      fill: #FFFFFF;\n",
              "    }\n",
              "  </style>\n",
              "\n",
              "      <script>\n",
              "        const buttonEl =\n",
              "          document.querySelector('#df-d1a50cfb-66f3-4efa-8c35-e74e301ffb91 button.colab-df-convert');\n",
              "        buttonEl.style.display =\n",
              "          google.colab.kernel.accessAllowed ? 'block' : 'none';\n",
              "\n",
              "        async function convertToInteractive(key) {\n",
              "          const element = document.querySelector('#df-d1a50cfb-66f3-4efa-8c35-e74e301ffb91');\n",
              "          const dataTable =\n",
              "            await google.colab.kernel.invokeFunction('convertToInteractive',\n",
              "                                                     [key], {});\n",
              "          if (!dataTable) return;\n",
              "\n",
              "          const docLinkHtml = 'Like what you see? Visit the ' +\n",
              "            '<a target=\"_blank\" href=https://colab.research.google.com/notebooks/data_table.ipynb>data table notebook</a>'\n",
              "            + ' to learn more about interactive tables.';\n",
              "          element.innerHTML = '';\n",
              "          dataTable['output_type'] = 'display_data';\n",
              "          await google.colab.output.renderOutput(dataTable, element);\n",
              "          const docLink = document.createElement('div');\n",
              "          docLink.innerHTML = docLinkHtml;\n",
              "          element.appendChild(docLink);\n",
              "        }\n",
              "      </script>\n",
              "    </div>\n",
              "  </div>\n",
              "  "
            ],
            "text/plain": [
              "                                              review sentiment\n",
              "0  One of the other reviewers has mentioned that ...  positive\n",
              "1  A wonderful little production. <br /><br />The...  positive\n",
              "2  I thought this was a wonderful way to spend ti...  positive\n",
              "3  Basically there's a family where a little boy ...  negative\n",
              "4  Petter Mattei's \"Love in the Time of Money\" is...  positive"
            ]
          },
          "metadata": {},
          "execution_count": 55
        }
      ]
    },
    {
      "cell_type": "markdown",
      "metadata": {
        "id": "HG5jQF_FASRf"
      },
      "source": [
        "### Шаг 1. Подготовка данных\n",
        "\n",
        "В качестве исследуемых способов представления необходимо рассмотреть:\n",
        "#### 1. Bag of words: word counts ([CountVectorizer](https://scikit-learn.org/stable/modules/generated/sklearn.feature_extraction.text.CountVectorizer.html)). Компоненты вектора: частоты или относительные частоты."
      ]
    },
    {
      "cell_type": "code",
      "source": [
        "X = frame['review']\n",
        "y = (frame['sentiment'] == 'negative').astype(int)"
      ],
      "metadata": {
        "id": "60EQtt-pKm8o"
      },
      "execution_count": 56,
      "outputs": []
    },
    {
      "cell_type": "code",
      "execution_count": 57,
      "metadata": {
        "id": "sEYtFcsfASRg",
        "colab": {
          "base_uri": "https://localhost:8080/"
        },
        "outputId": "1ef1ed12-9808-4a1f-d6a6-13d427242ded"
      },
      "outputs": [
        {
          "output_type": "stream",
          "name": "stdout",
          "text": [
            "cv_train: (750, 21653)\n",
            "cv_test: (750, 21653)\n"
          ]
        }
      ],
      "source": [
        "cv = CountVectorizer()\n",
        "X1 = cv.fit_transform(X).toarray()\n",
        "X1_train, X1_test, y_train, y_test = train_test_split(X1, y, test_size=0.5, random_state=0)\n",
        "print('cv_train:', X1_train.shape)\n",
        "print('cv_test:', X1_test.shape)"
      ]
    },
    {
      "cell_type": "code",
      "source": [
        "type(X1)"
      ],
      "metadata": {
        "colab": {
          "base_uri": "https://localhost:8080/"
        },
        "id": "viVozM9BQNYs",
        "outputId": "7ffa645f-4f39-4566-e0c3-3b9325262254"
      },
      "execution_count": 58,
      "outputs": [
        {
          "output_type": "execute_result",
          "data": {
            "text/plain": [
              "numpy.ndarray"
            ]
          },
          "metadata": {},
          "execution_count": 58
        }
      ]
    },
    {
      "cell_type": "markdown",
      "metadata": {
        "id": "DqmsPP9SASRh"
      },
      "source": [
        "#### 2. Bag of words: weird numbers ([TfidfVectorizer](https://scikit-learn.org/stable/modules/generated/sklearn.feature_extraction.text.TfidfVectorizer.html)). Компоненты вектора: оценки \"значимости\" слова (например tf-idf)."
      ]
    },
    {
      "cell_type": "code",
      "execution_count": 59,
      "metadata": {
        "id": "Sa2HYxJiASRj",
        "colab": {
          "base_uri": "https://localhost:8080/"
        },
        "outputId": "0e9961b2-d81f-4fb3-c5e9-db4ccb7a4475"
      },
      "outputs": [
        {
          "output_type": "stream",
          "name": "stdout",
          "text": [
            "Tfidf_train: (750, 21653)\n",
            "Tfidf_test: (750, 21653)\n"
          ]
        }
      ],
      "source": [
        "#Tfidf vectorizer\n",
        "tv=TfidfVectorizer()\n",
        "#transformed reviews\n",
        "X2=tv.fit_transform(X).toarray()\n",
        "X2_train, X2_test = train_test_split(X1, test_size=0.5, random_state=0)\n",
        "print('Tfidf_train:',X2_train.shape)\n",
        "print('Tfidf_test:',X2_test.shape)"
      ]
    },
    {
      "cell_type": "code",
      "source": [
        "type(X2_test)"
      ],
      "metadata": {
        "colab": {
          "base_uri": "https://localhost:8080/"
        },
        "id": "_27SFHXyQ65N",
        "outputId": "aef133f5-b541-4e1d-ab2b-deac74e36688"
      },
      "execution_count": 60,
      "outputs": [
        {
          "output_type": "execute_result",
          "data": {
            "text/plain": [
              "numpy.ndarray"
            ]
          },
          "metadata": {},
          "execution_count": 60
        }
      ]
    },
    {
      "cell_type": "markdown",
      "metadata": {
        "id": "x_HIX5yXASRk"
      },
      "source": [
        "#### 3. Bag of ngrams. Позволяет учитывать положение слов. Компоненты вектора: частоты N-грам. Примитивный подход, но в некоторых задачах он может улучшать качество решения."
      ]
    },
    {
      "cell_type": "code",
      "execution_count": 61,
      "metadata": {
        "id": "oTWmDw-aASRm",
        "colab": {
          "base_uri": "https://localhost:8080/"
        },
        "outputId": "939ce8bc-5c4b-47c7-fd75-9089b800daf6"
      },
      "outputs": [
        {
          "output_type": "stream",
          "name": "stdout",
          "text": [
            "BOW_cv_train: (750, 21653)\n",
            "BOW_cv_test: (750, 21653)\n"
          ]
        }
      ],
      "source": [
        "#Count vectorizer for bag of words\n",
        "cv=CountVectorizer(ngram_range=(2,2))\n",
        "#transformed reviews\n",
        "\n",
        "X3 = cv.fit_transform(X).toarray()\n",
        "X3_train, X3_test = train_test_split(X2, test_size=0.5, random_state=0)\n",
        "\n",
        "print('BOW_cv_train:',X3_train.shape)\n",
        "print('BOW_cv_test:',X3_test.shape)"
      ]
    },
    {
      "cell_type": "code",
      "source": [
        "type(X3)"
      ],
      "metadata": {
        "colab": {
          "base_uri": "https://localhost:8080/"
        },
        "id": "mNOYdAT3REWr",
        "outputId": "321db45f-92e3-494e-ecdc-39aa0216724e"
      },
      "execution_count": 62,
      "outputs": [
        {
          "output_type": "execute_result",
          "data": {
            "text/plain": [
              "numpy.ndarray"
            ]
          },
          "metadata": {},
          "execution_count": 62
        }
      ]
    },
    {
      "cell_type": "markdown",
      "metadata": {
        "id": "_9Lq4lKbASRn"
      },
      "source": [
        "### Шаг 2. Исследование моделей\n",
        "\n",
        "В зависимости от способа представления оценить качество классификации как долю правильных ответов на выборке (accuracy). Не забывайте использовать перекрестную проверку ([cross_val_score](https://scikit-learn.org/stable/modules/generated/sklearn.model_selection.cross_val_score.html), [KFold](https://scikit-learn.org/stable/modules/generated/sklearn.model_selection.KFold.html)).\n",
        "\n",
        "Для каждого из нижеперечисленных моделей необходимо определить оптимальные гиперпараметры ([GridSearchCV](https://scikit-learn.org/stable/modules/generated/sklearn.model_selection.GridSearchCV.html))\n",
        "\n",
        "Качество классификации оцениваем для следующих моделей:\n",
        "\n",
        "#### 1. Машина опорных векторов ([SVC](https://scikit-learn.org/stable/modules/generated/sklearn.svm.SVC.html))."
      ]
    },
    {
      "cell_type": "code",
      "execution_count": 63,
      "metadata": {
        "id": "gryAMxaZASRq",
        "colab": {
          "base_uri": "https://localhost:8080/"
        },
        "outputId": "c612b99c-8708-4b41-a800-f904c4a4335c"
      },
      "outputs": [
        {
          "output_type": "execute_result",
          "data": {
            "text/plain": [
              "GridSearchCV(estimator=SVC(),\n",
              "             param_grid={'C': [1, 10], 'kernel': ('linear', 'rbf')})"
            ]
          },
          "metadata": {},
          "execution_count": 63
        }
      ],
      "source": [
        "svc = SVC()\n",
        "param_grid = {'kernel': ('linear', 'rbf'), 'C': [1, 10]}\n",
        "\n",
        "clf_cv = GridSearchCV(svc, param_grid)\n",
        "clf_cv.fit(X1_train, y_train)\n",
        "clf_tv = GridSearchCV(svc, param_grid)\n",
        "clf_tv.fit(X2_train, y_train)\n",
        "clf_ngram = GridSearchCV(svc, param_grid)\n",
        "clf_ngram.fit(X2_train, y_train)"
      ]
    },
    {
      "cell_type": "markdown",
      "metadata": {
        "id": "YNtetrP8ASRr"
      },
      "source": [
        "#### 2. Случайный лес ([RandomForestClassifier](https://scikit-learn.org/stable/modules/generated/sklearn.ensemble.RandomForestClassifier.html))."
      ]
    },
    {
      "cell_type": "code",
      "execution_count": 64,
      "metadata": {
        "id": "-1oCbwSeASRs",
        "colab": {
          "base_uri": "https://localhost:8080/"
        },
        "outputId": "4c5ea765-cece-4482-9ab8-198a7241cf6e"
      },
      "outputs": [
        {
          "output_type": "execute_result",
          "data": {
            "text/plain": [
              "GridSearchCV(estimator=RandomForestClassifier(),\n",
              "             param_grid={'max_features': ['auto', 'sqrt', 'log2'],\n",
              "                         'n_estimators': [200, 700]})"
            ]
          },
          "metadata": {},
          "execution_count": 64
        }
      ],
      "source": [
        "param_grid = {\n",
        "    'n_estimators': [200, 700],\n",
        "    'max_features': ['auto', 'sqrt', 'log2']\n",
        "}\n",
        "rfc = RandomForestClassifier()\n",
        "\n",
        "clf_cv_f = GridSearchCV(rfc, param_grid)\n",
        "clf_cv_f.fit(X1_train, y_train)\n",
        "\n",
        "clf_tv_f = GridSearchCV(rfc, param_grid)\n",
        "clf_tv_f.fit(X2_train, y_train)\n",
        "\n",
        "clf_ngram_f = GridSearchCV(rfc, param_grid)\n",
        "clf_ngram_f.fit(X3_train, y_train)"
      ]
    },
    {
      "cell_type": "markdown",
      "metadata": {
        "id": "zXyScNjpASRt"
      },
      "source": [
        "### Шаг 3. Сравнение результатов\n",
        "\n",
        "Сравнить точность обученных моделей. Найти наиболее точную."
      ]
    },
    {
      "cell_type": "code",
      "execution_count": 67,
      "metadata": {
        "id": "KLasR09-ASRu",
        "colab": {
          "base_uri": "https://localhost:8080/"
        },
        "outputId": "82365265-41e1-49b6-fa2f-34b21acc3ea3"
      },
      "outputs": [
        {
          "output_type": "stream",
          "name": "stdout",
          "text": [
            "SVC_word counts\n",
            "0.776\n",
            "SVC_wierd_numbers\n",
            "0.776\n",
            "SVC_bag_of_ngrams\n",
            "0.49466666666666664\n",
            "RFC_word counts\n",
            "0.788\n",
            "RFC_wierd_numbers\n",
            "0.7853333333333333\n",
            "RFC_bag_of_ngrams\n",
            "0.7693333333333333\n"
          ]
        }
      ],
      "source": [
        "clfs = {\"SVC_word counts\": clf_cv,\n",
        "        \"SVC_wierd_numbers\":clf_tv, \n",
        "        \"SVC_bag_of_ngrams\":clf_ngram,\n",
        "        \"RFC_word counts\": clf_cv_f, \n",
        "        \"RFC_wierd_numbers\":clf_tv_f, \n",
        "        \"RFC_bag_of_ngrams\":clf_ngram_f\n",
        "        }\n",
        "\n",
        "test_vals = {\"SVC_word counts\": X1_test, \n",
        "             \"SVC_wierd_numbers\":X2_test, \n",
        "             \"SVC_bag_of_ngrams\":X3_test,\n",
        "             \"RFC_word counts\": X1_test, \n",
        "             \"RFC_wierd_numbers\":X2_test, \n",
        "             \"RFC_bag_of_ngrams\":X3_test\n",
        "             }\n",
        "\n",
        "for a, b in clfs.items():\n",
        "    print(a)\n",
        "    estimator = b.best_estimator_\n",
        "    y_pred = estimator.predict(test_vals[a])\n",
        "    print(accuracy_score(y_test,y_pred))"
      ]
    },
    {
      "cell_type": "code",
      "source": [
        ""
      ],
      "metadata": {
        "id": "0vIqiRnQmatv"
      },
      "execution_count": null,
      "outputs": []
    }
  ],
  "metadata": {
    "kernelspec": {
      "display_name": "Python 3",
      "language": "python",
      "name": "python3"
    },
    "language_info": {
      "codemirror_mode": {
        "name": "ipython",
        "version": 3
      },
      "file_extension": ".py",
      "mimetype": "text/x-python",
      "name": "python",
      "nbconvert_exporter": "python",
      "pygments_lexer": "ipython3",
      "version": "3.7.3"
    },
    "colab": {
      "name": "NLP2_Rusin_6235.ipynb",
      "provenance": []
    }
  },
  "nbformat": 4,
  "nbformat_minor": 0
}